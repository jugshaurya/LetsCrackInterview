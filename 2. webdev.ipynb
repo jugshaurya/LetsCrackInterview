{
 "nbformat": 4,
 "nbformat_minor": 2,
 "metadata": {
  "language_info": {
   "name": "python",
   "codemirror_mode": {
    "name": "ipython",
    "version": 3
   },
   "version": "3.6.9-final"
  },
  "orig_nbformat": 2,
  "file_extension": ".py",
  "mimetype": "text/x-python",
  "name": "python",
  "npconvert_exporter": "python",
  "pygments_lexer": "ipython3",
  "version": 3,
  "kernelspec": {
   "name": "python36964bit3a4a91490f934e978d66c6555e6ff711",
   "display_name": "Python 3.6.9 64-bit"
  }
 },
 "cells": [
  {
   "cell_type": "markdown",
   "metadata": {},
   "source": [
    "## How Internet Works ? (Top Interview Question) [Best Article i have read](https://medium.com/@User3141592/how-does-the-internet-work-edc2e22e7eb8)\n",
    "\n",
    "\n",
    "- `Internet works through a packet routing network follwing some set of rules called protocols like TCP(for communication between client and server and sending acknowledgement to the sender about the status of data recieved or not.so in case of packet loss, re-transmmision can happen), IP(for adding the source and destination info to the packet/segment/frame header) and other Protocols.` These packets are passed down to various routers adding one to total hops till they reach their destination.\n",
    "\n",
    "- These routers originated in the 1960s as ARPANET, a military project whose goal was a computer network that was decentralized so the government could access and distribute information in the case of a catastrophic event. Since then, a number of Internet Service Providers (ISP) corporations have added routers onto these ARPANET routers.There is no single owner of these Internet routers, but rather multiple owners: The government agencies and universities associated with ARPANET in the early days and ISP corporations like AT&T and Verizon later on.\n",
    "\n",
    "- The Internet Protocol specifies how network addresses should be attached to the packet’s headers, a designated space in the packet containing its meta-data. The Internet Protocol also specifies how the routers should forward the packets based on the address in the header."
   ]
  },
  {
   "cell_type": "code",
   "execution_count": null,
   "metadata": {},
   "outputs": [],
   "source": []
  },
  {
   "cell_type": "markdown",
   "metadata": {},
   "source": [
    "###### What is Protocol, Ping, ISPs, DNS, IP adresses(classless, classful, subnetting), MAC Address, Datacenters, Server-client, Proxy, ReverseProxy, TCP/IP Model(OSI Model extension)?\n",
    "\n",
    "1. Protocols - rules that are follwed in order to send one piece of data from one computer to another.\n",
    "2. IP Address - v4/v6 - are the values that get retrieved from registry done by ISP's using Domain Name System(DNS) which maps urls to 32 bit or 8 bit number represented as x.x.x.x where x is a number between 0 and 255.\n",
    "    - Can be Classful with 5 classes(A to E), each having a NetworkID part and Host ID Part.\n",
    "    - Newtwork ID is used to find the newtork(analogous to cities) \n",
    "    - HostID is used to find the specific router inside that newtork.\n",
    "    - A organization takes a set of IP addresses from these classes, Hence Subnetting is done.\n",
    "    - Subnetting ID is a part of HostID taking some start bits of HOSTID.\n",
    "    - out of this assigned set the first address of the set is used to identify the network and last one is used for direct direct broadcasting(send a message to other newtork.)\n",
    "2.1 DNS -  Computers resolve IP addresses through the Domain Name System (DNS), a decentralized database of mappings from domain names to IP addresses.\n",
    "3. ISPs - are the vendors that maintains the newtork, provide the internet to us and in return take a cost to maintain the infrastructure for the same.\n",
    "4. MAC Adress - the newtwork chip/card address of our laptop/pc/computer that allow us to surf the internet.\n",
    "5. Datacenters - A big place where all the data is stored, from where a data is send to us via routers, switches, cablelines under oceans.\n",
    "6. Proxy - a server in the middle of client and server model that is used to request to server in behave of client, so to sometimes hide the id of client and its private information. we can set the proxy in react app using proxy: \"value\" inside package.json\n",
    "\n",
    "7. Reverse Proxy - a server in the middle of client and server model that is used to respond to client in behave of server. Ex- nginx, act as a load Balancer, HTTP cache,mail proxy. For ex netflix has their box(OPEN CONNECT) to ISPs region wise to store the most likely 90% of movies stored in it. so to quickly process the request to a region instead of requesting to a server everytime form any region.\n",
    "8. TCP/IP Model - answers how exactly two applications communication with each other.\n",
    "    - Consist of four layers \n",
    "        - Application Layer - handle the complex details of moving data from one place to other. The HTTP protocol which specifies how web browsers and web servers should interact lives in the Application Layer.The IMAP protocol which specifies how email clients should retrieve email lives in the Application Layer. The SMTP protocol allows to send(not recieve) the mails.. SMTP is a push protocol and is used to send the mail whereas POP (post office protocol) or IMAP (internet message access protocol) are used to retrieve those mails at the receiver’s side. FTP lives here as well.\n",
    "        - Transport Layer - work for data send acknowledgements, Ensures data reached at both end is identical.(TCP and UDP)\n",
    "        - Internet Layer - concerned with routing packets to their destinations. (ARP, IP)\n",
    "        - Link Layer - worries about send data as bits through cables(optical fibre cables, wifi-signals) \n"
   ]
  },
  {
   "cell_type": "markdown",
   "metadata": {},
   "source": [
    "##### static vs dynamic websites\n",
    "\n",
    "-  websites where the content a user see differs per user identity is a dynamic website(Facebook news feed is different for different users) else it is static Website(Blog Websites)."
   ]
  },
  {
   "cell_type": "code",
   "execution_count": null,
   "metadata": {},
   "outputs": [],
   "source": []
  }
 ]
}