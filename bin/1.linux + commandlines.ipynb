{
 "nbformat": 4,
 "nbformat_minor": 2,
 "metadata": {
  "language_info": {
   "name": "python",
   "codemirror_mode": {
    "name": "ipython",
    "version": 3
   },
   "version": "3.6.9-final"
  },
  "orig_nbformat": 2,
  "file_extension": ".py",
  "mimetype": "text/x-python",
  "name": "python",
  "npconvert_exporter": "python",
  "pygments_lexer": "ipython3",
  "version": 3,
  "kernelspec": {
   "name": "python36964bit3a4a91490f934e978d66c6555e6ff711",
   "display_name": "Python 3.6.9 64-bit"
  }
 },
 "cells": [
  {
   "cell_type": "markdown",
   "metadata": {},
   "source": [
    "#### Linux\n",
    "- The Unix-like operating systems, such as Linux differ from other computing systems in that they are not only multitasking but also multi-user.\n",
    "- It means that more than one user can be operating the computer at the same time. While your computer only has one keyboard and monitor, it can still be used by more than one user. For example, if your computer is attached to a network, or the Internet, remote users can log in via ssh (secure shell) and operate the computer.\n",
    "#### File Permissions\n",
    "On a Linux system, each file and directory is assigned access rights for the owner of the file, the members of a group of related users, and everybody else. Rights can be assigned to read a file, to write a file, and to execute a file (i.e., run the file as a program).\n",
    "- In this chapter, we will discuss in detail about file management in Unix. All data in Unix is organized into files. All files are organized into directories. These directories are organized into a tree-like structure called the filesystem.\n",
    "\n",
    "![Permission](./images/permissions.png)\n",
    "![Permission](./images/permissions2.png)\n",
    "- The computer programs that allocate the system resources and coordinate all the details of the computer's internals is called the operating system or the kernel.\n",
    "- Users communicate with the kernel through a program known as the shell.\n",
    "\n",
    "#### The main concept that unites all the versions of Unix is the following four basics −\n",
    "\n",
    "- Kernel − The kernel is the heart of the operating system. It interacts with the hardware and most of the tasks like memory management, task scheduling and file management.\n",
    "\n",
    "- Shell − The shell is the utility that processes your requests. When you type in a command at your terminal, the shell interprets the command and calls the program that you want. The shell uses standard syntax for all commands. C Shell, Bourne Shell and Korn Shell are the most famous shells which are available with most of the Unix variants.\n",
    "\n",
    "- Commands and Utilities − There are various commands and utilities which you can make use of in your day to day activities. cp, mv, cat and grep, etc.\n",
    "\n",
    "- Files and Directories − All the data of Unix is organized into files. All files are then organized into directories. These directories are further organized into a tree-like structure called the filesystem.    "
   ]
  },
  {
   "cell_type": "markdown",
   "metadata": {},
   "source": [
    "## Linux Commands\n",
    "\n",
    "1. `cal` - Displays the calendar of the current month.\n",
    "2. `cal 08 2020` - Displays the calendar of the August 2020.\n",
    "3. `date` - Displays the current date.\n",
    "4. `whoami` - This command reveals the user who is currently logged in.\n",
    "5. `whatis command` - One line description of command.\n",
    "6. `man command` - details description of command.\n",
    "7. `cd`, `clear`, `pwd`\n",
    "8. `ls`, `ls -l`, `ls -la` - ‘ls -l’ displays a long listing of the files\n",
    "    - drwxrwxr-x -> first character is d or - means is it a directory or a file and resr 9 characters(rwxrwxr-x) are permissions to readable, writeable, executable.\n",
    "9. `chmod 600 some_file` - changing the file permission to 600 means 110-000-000 means only user can read and write the file but can not execute it.\n",
    "10. `touch filename.ext` - create file named filename.ext, if a file already exist, its timestamp is updated.\n",
    "11. `cp source destination` - Copy files and directories. If the source is a file, and the destination (file) name does not exit, then source is copied with new name i.e. with the name provided as the destination. `use -r flag to copy directories means copy recusively.`\n",
    "12. `mv source destination`\n",
    "13. `rm source destination` -  use `-r flag` to remove directories.\n",
    "14. `file filename` - determine filetype \n",
    "15. `stat filename` - determine file stats\n",
    "16. `cat filename` - to view the content of file over teminal.\n",
    "17. `head filename` - to view the top 10 lines of filename.\n",
    "18. `tail filename` - to view the bottom 10 lines of filename.\n",
    "19. `wc filename` - Word count, This command counts lines, words and letters of the input given to it.\n",
    "20. `grep [options] pattern [filename]` - The ‘grep’ command searches for a pattern in a file (or standard input). It supports regular expressions. It returns a line if it matches the `pattern` in that line. view --help to see all the options.\n",
    "21. `alias` - to see all the aliases\n",
    "22. `alias c=\"clear\"` - to create new alias\n",
    "23. `du fileOrDir` - determines disk usage of a file. \n",
    "24. `left | right` - pipe(|) is used to pass on the  output of left command to right command, hence right command operates on left command's output.\n",
    "ex - ps aux | grep pid - to view all the process with id=pid from a list of all active processes.\n",
    "\n",
    "25. `ps` - list all the current processes."
   ]
  }
 ]
}