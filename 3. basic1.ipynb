{
 "nbformat": 4,
 "nbformat_minor": 2,
 "metadata": {
  "language_info": {
   "name": "python",
   "codemirror_mode": {
    "name": "ipython",
    "version": 3
   },
   "version": "3.6.9-final"
  },
  "orig_nbformat": 2,
  "file_extension": ".py",
  "mimetype": "text/x-python",
  "name": "python",
  "npconvert_exporter": "python",
  "pygments_lexer": "ipython3",
  "version": 3,
  "kernelspec": {
   "name": "python36964bit3a4a91490f934e978d66c6555e6ff711",
   "display_name": "Python 3.6.9 64-bit"
  }
 },
 "cells": [
  {
   "cell_type": "markdown",
   "metadata": {},
   "source": [
    "### specificity, cascade, inheritance\n",
    "\n",
    "`Stylesheets cascade` — at a very simple level this means that the order of CSS rules matter; when two rules apply that have equal specificity the one that comes last in the CSS is the one that will be used.\n",
    "\n",
    "`Specificity` is how the browser decides which rule applies if multiple rules have different selectors, but could still apply to the same element. It is basically a measure of how specific a selector's selection will be:\n",
    "\n",
    "![image](./images/specificity.png)\n",
    "\n",
    "`Inheritance` - some CSS property values set on parent elements are inherited by their child elements, and some aren't.For example, if you set a color and font-family on an element, every element inside it will also be styled with that color and font, unless you've applied different color and font values directly to them."
   ]
  },
  {
   "cell_type": "markdown",
   "metadata": {},
   "source": [
    "### Bubbling and Capturing (Event Propagation & Event Delegation)"
   ]
  },
  {
   "cell_type": "markdown",
   "metadata": {},
   "source": [
    "### MERN ?"
   ]
  },
  {
   "cell_type": "code",
   "execution_count": null,
   "metadata": {},
   "outputs": [],
   "source": [
    "- Any web application is built using multiple technologies. The combinations of these technologies is called a “stack ,” popularized by the LAMP stack, which is an acronym for Linux, Apache, MySQL, PHP, which are all open-source software. As web development matured and their interactivity came to the fore, Single Page Applications (SPAs) became more popular.\n",
    "\n",
    "- An SPA is a web application paradigm that avoids fetching the contents of an entire web page from the server to display new contents. It instead uses lightweight calls to the server to get some data or snippets and changes the web page. The result looks quite nifty as compared to the old way of reloading the page entirely. This brought about a rise in front-end frameworks, since a lot of the work was done on the front-end. At approximately the same time, though completely unrelated, NoSQL databases also started gaining popularity.\n",
    "\n",
    "- The MEAN (MongoDB, Express, AngularJS, Node.js) stack was one of the early open-source stacks that epitomized this shift toward SPAs and adoption of NoSQL. \n",
    "\n",
    "- . AngularJS, a front-end framework based on the Model View Controller (MVC) design pattern, anchored this stack. MongoDB, a very popular NoSQL database, was used for persistent data storage. Node.js, a server-side JavaScript runtime environment, and Express, a web-server built on Node.js, formed the middle-tier, or the web server. This stack was arguably the most popular stack for any new web application until a few years back.\n",
    "\n",
    "Not exactly competing, but React, an alternate front-end technology created by Facebook, has been gaining popularity and offers an alternative to AngularJS. It thus replaces the “A” with an “R” in MEAN, to give us the MERN Stack. I said “not exactly” since React is not a full-fledged MVC framework. It is a JavaScript library for building user interfaces, so in some sense, it’s the View part of the MVC.\n",
    "\n",
    "- So trysadlasdlkaslksfhkldksfl\n",
    "dfjdkfdfkk sdjjhdjhjjkkhjkjsdfkhkjhdfjdfhhjjhjjsk khdsfkhjjhj xcnv,mcvx,cv,n,vcx.,,xcvnmnmnm,xcvdfksdfhsdfkhdfjhfdjhdfkhdfkhdfhskhdsfkhdsfkhkhjhdsfhjdfkhjjhhjkdfjkdfjksdfksdfjhdfjksdfjhsdkfkdsfsdldfljsldfkkkkkkjkkjdfklldf;sdlfs;jkjklklkldsfkjkdsfjldkfcvxn,mvcx,n,cxvn,xnvcmcvmnmnfjdsjfdlsjljkks;ddsf;jsdsjf\n",
    "- "
   ]
  }
 ]
}